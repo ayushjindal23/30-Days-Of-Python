{
 "cells": [
  {
   "cell_type": "markdown",
   "metadata": {},
   "source": [
    "# Higher Order Functions"
   ]
  },
  {
   "cell_type": "code",
   "execution_count": 1,
   "metadata": {},
   "outputs": [
    {
     "name": "stdout",
     "output_type": "stream",
     "text": [
      "15\n"
     ]
    }
   ],
   "source": [
    "def sum_numbers(nums):  # normal function\n",
    "    return sum(nums)    # a sad function abusing the built-in sum function :<\n",
    "\n",
    "def higher_order_function(f, *args):  # function as a parameter\n",
    "    summation = f(*args)\n",
    "    return summation\n",
    "result = higher_order_function(sum_numbers, [1, 2, 3, 4, 5])\n",
    "print(result)       # 15"
   ]
  },
  {
   "cell_type": "code",
   "execution_count": 2,
   "metadata": {},
   "outputs": [
    {
     "name": "stdout",
     "output_type": "stream",
     "text": [
      "9\n",
      "27\n",
      "3\n"
     ]
    }
   ],
   "source": [
    "def square(x):          # a square function\n",
    "    return x ** 2\n",
    "\n",
    "def cube(x):            # a cube function\n",
    "    return x ** 3\n",
    "\n",
    "def absolute(x):        # an absolute value function\n",
    "    if x >= 0:\n",
    "        return x\n",
    "    else:\n",
    "        return -(x)\n",
    "\n",
    "def higher_order_function(type): # a higher order function returning a function\n",
    "    if type == 'square':\n",
    "        return square\n",
    "    elif type == 'cube':\n",
    "        return cube\n",
    "    elif type == 'absolute':\n",
    "        return absolute\n",
    "\n",
    "result = higher_order_function('square')\n",
    "print(result(3))       # 9\n",
    "result = higher_order_function('cube')\n",
    "print(result(3))       # 27\n",
    "result = higher_order_function('absolute')\n",
    "print(result(-3))      # 3"
   ]
  },
  {
   "cell_type": "code",
   "execution_count": 3,
   "metadata": {},
   "outputs": [
    {
     "name": "stdout",
     "output_type": "stream",
     "text": [
      "15\n",
      "20\n"
     ]
    }
   ],
   "source": [
    "def add_ten():\n",
    "    ten = 10\n",
    "\n",
    "    def add(num):\n",
    "        return num + ten\n",
    "    return add\n",
    "\n",
    "closure_result = add_ten()\n",
    "print(closure_result(5))  # 15\n",
    "print(closure_result(10))  # 20"
   ]
  },
  {
   "cell_type": "code",
   "execution_count": 4,
   "metadata": {},
   "outputs": [
    {
     "name": "stdout",
     "output_type": "stream",
     "text": [
      "WELCOME TO PYTHON\n",
      "WELCOME TO PYTHON\n"
     ]
    }
   ],
   "source": [
    "# Normal function\n",
    "def greeting():\n",
    "    return 'Welcome to Python'\n",
    "def uppercase_decorator(function):\n",
    "    def wrapper():\n",
    "        func = function()\n",
    "        make_uppercase = func.upper()\n",
    "        return make_uppercase\n",
    "    return wrapper\n",
    "g = uppercase_decorator(greeting)\n",
    "print(g())          # WELCOME TO PYTHON\n",
    "\n",
    "## Lets implement the example above with a decorator\n",
    "\n",
    "'''This decorator function is a higher order function\n",
    "that takes a function as a parameter'''\n",
    "def uppercase_decorator(function):\n",
    "    def wrapper():\n",
    "        func = function()\n",
    "        make_uppercase = func.upper()\n",
    "        return make_uppercase\n",
    "    return wrapper\n",
    "@uppercase_decorator\n",
    "def greeting():\n",
    "    return 'Welcome to Python'\n",
    "print(greeting())   # WELCOME TO PYTHON"
   ]
  },
  {
   "cell_type": "code",
   "execution_count": 5,
   "metadata": {},
   "outputs": [
    {
     "name": "stdout",
     "output_type": "stream",
     "text": [
      "['WELCOME', 'TO', 'PYTHON']\n"
     ]
    }
   ],
   "source": [
    "'''These decorator functions are higher order functions\n",
    "that take functions as parameters'''\n",
    "\n",
    "# First Decorator\n",
    "def uppercase_decorator(function):\n",
    "    def wrapper():\n",
    "        func = function()\n",
    "        make_uppercase = func.upper()\n",
    "        return make_uppercase\n",
    "    return wrapper\n",
    "# Second decorator\n",
    "def split_string_decorator(function):\n",
    "    def wrapper():\n",
    "        func = function()\n",
    "        splitted_string = func.split()\n",
    "        return splitted_string\n",
    "\n",
    "    return wrapper\n",
    "\n",
    "@split_string_decorator\n",
    "@uppercase_decorator     # order with decorators is important in this case - .upper() function does not work with lists\n",
    "\n",
    "def greeting():\n",
    "    return 'Welcome to Python'\n",
    "print(greeting())   # WELCOME TO PYTHON"
   ]
  },
  {
   "cell_type": "code",
   "execution_count": 7,
   "metadata": {},
   "outputs": [
    {
     "name": "stdout",
     "output_type": "stream",
     "text": [
      "I am Ayush Jindal. I love to teach.\n",
      "I live in India\n"
     ]
    }
   ],
   "source": [
    "def decorator_with_parameters(function):\n",
    "    def wrapper_accepting_parameters(para1, para2, para3):\n",
    "        function(para1, para2, para3)\n",
    "        print(\"I live in {}\".format(para3))\n",
    "    return wrapper_accepting_parameters\n",
    "\n",
    "@decorator_with_parameters\n",
    "def print_full_name(first_name, last_name, country):\n",
    "    print(\"I am {} {}. I love to teach.\".format(\n",
    "        first_name, last_name, country))\n",
    "\n",
    "print_full_name(\"Ayush\", \"Jindal\",'India')"
   ]
  },
  {
   "cell_type": "code",
   "execution_count": null,
   "metadata": {},
   "outputs": [],
   "source": []
  }
 ],
 "metadata": {
  "kernelspec": {
   "display_name": "Python 3",
   "language": "python",
   "name": "python3"
  },
  "language_info": {
   "codemirror_mode": {
    "name": "ipython",
    "version": 3
   },
   "file_extension": ".py",
   "mimetype": "text/x-python",
   "name": "python",
   "nbconvert_exporter": "python",
   "pygments_lexer": "ipython3",
   "version": "3.8.5"
  }
 },
 "nbformat": 4,
 "nbformat_minor": 4
}

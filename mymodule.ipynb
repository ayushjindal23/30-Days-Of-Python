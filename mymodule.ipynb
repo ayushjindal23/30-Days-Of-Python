{
 "cells": [
  {
   "cell_type": "code",
   "execution_count": 1,
   "metadata": {},
   "outputs": [],
   "source": [
    "def generate_full_name(firstname, lastname):\n",
    "      space = ' '\n",
    "      fullname = firstname + space + lastname\n",
    "      return fullname\n",
    "\n",
    "def sum_two_nums (num1, num2):\n",
    "    return num1 + num2\n",
    "gravity = 9.81\n",
    "person = {\n",
    "    \"firstname\": \"Ayush\",\n",
    "    \"age\": 21,\n",
    "    \"country\": \"India\",\n",
    "    \"city\":'Kaputhala'\n",
    "}"
   ]
  }
 ],
 "metadata": {
  "kernelspec": {
   "display_name": "Python 3",
   "language": "python",
   "name": "python3"
  },
  "language_info": {
   "codemirror_mode": {
    "name": "ipython",
    "version": 3
   },
   "file_extension": ".py",
   "mimetype": "text/x-python",
   "name": "python",
   "nbconvert_exporter": "python",
   "pygments_lexer": "ipython3",
   "version": "3.8.5"
  }
 },
 "nbformat": 4,
 "nbformat_minor": 4
}
